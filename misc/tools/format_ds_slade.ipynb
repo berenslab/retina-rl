{
 "cells": [
  {
   "cell_type": "code",
   "execution_count": 1,
   "metadata": {},
   "outputs": [],
   "source": [
    "import os\n",
    "import string"
   ]
  },
  {
   "cell_type": "code",
   "execution_count": 2,
   "metadata": {},
   "outputs": [],
   "source": [
    "# defining functions\n",
    "def get_unique_list(num_uniq):\n",
    "    \n",
    "    alph = string.ascii_letters[26:26+num_uniq] # capital\n",
    "    print(f'Chooisng {num_uniq} unique encoding characters allows for {num_uniq**3} file identifiers per stimulus class. \\n    Available characters: {alph}')\n",
    "    cls_ind = 0 # later add in loop over classes\n",
    "    lett_zer = alph[cls_ind]# this encodes the stimulus class (for MNIST: 0-9 > A-J)\n",
    "    all_nms = []\n",
    "\n",
    "    for lett_one in alph:\n",
    "        nm = lett_one # initialise string for unique file identifier\n",
    "        for lett_two in alph:\n",
    "            nm += lett_two\n",
    "            for lett_thr in alph:\n",
    "                nm += lett_thr\n",
    "                all_nms.append(nm)\n",
    "                nm = nm[:-1]\n",
    "            nm = nm[:-1]\n",
    "            \n",
    "    print(f'Generated {len(all_nms)} unique strings.')\n",
    "    return all_nms\n",
    "\n",
    "def get_alpha_classes(classes):\n",
    "    all_cls = []\n",
    "    for (i, _) in enumerate(classes):\n",
    "        all_cls.append(string.ascii_letters[26+i])\n",
    "    print('All alpha-encoded classes:', all_cls)\n",
    "    return(all_cls)"
   ]
  },
  {
   "cell_type": "code",
   "execution_count": 3,
   "metadata": {},
   "outputs": [],
   "source": [
    "# setting parameter: num_uniq =< cbroot(min_n_stim_class)\n",
    "num_uniq = 17 # 17 for mnist, since '5' has 5421 ~= 17^3 = 4913, same for CIFAR"
   ]
  },
  {
   "cell_type": "code",
   "execution_count": 4,
   "metadata": {},
   "outputs": [
    {
     "name": "stdout",
     "output_type": "stream",
     "text": [
      "Working directory:  C:\\Users\\Jure\\Documents\\BerensLab\\Doom\\graphics_wads_archive\\custom_graphics\\reward\\CIFAR10\\cifar10\n",
      "Classes subfolders:  ['0_truck', '1_automobile', '2_airplane', '3_ship', '4_bird', '5_cat', '6_dog', '7_deer', '8_frog', '9_horse']\n"
     ]
    }
   ],
   "source": [
    "# paths\n",
    "cwd = os.getcwd()\n",
    "print('Working directory: ', cwd)\n",
    "ls = os.listdir(cwd)\n",
    "ds_pth = cwd + '/cifar10/'# assumes ds_pth directory contains only sub-directories where the name of the sub-directory is the class label and it contains all stimuli of that class\n",
    "ds_fpth = ds_pth + '/train/'\n",
    "classes = os.listdir(ds_fpth) # list of possible labels / subdirectories in ds\n",
    "print('Classes subfolders: ', classes)\n",
    "decor_tmplt_pth = ds_pth + '/decorate_template.txt'\n"
   ]
  },
  {
   "cell_type": "code",
   "execution_count": 5,
   "metadata": {},
   "outputs": [
    {
     "name": "stdout",
     "output_type": "stream",
     "text": [
      "All alpha-encoded classes: ['A', 'B', 'C', 'D', 'E', 'F', 'G', 'H', 'I', 'J']\n",
      "Chooisng 17 unique encoding characters allows for 4913 file identifiers per stimulus class. \n",
      "    Available characters: ABCDEFGHIJKLMNOPQ\n",
      "Generated 4913 unique strings.\n"
     ]
    }
   ],
   "source": [
    "# preparing for renaming \n",
    "all_cls = get_alpha_classes(classes) # changing to alphabetical encoding\n",
    "unique_strs = get_unique_list(num_uniq) # this can easily be repurposed for all 10 classes"
   ]
  },
  {
   "cell_type": "code",
   "execution_count": 6,
   "metadata": {},
   "outputs": [
    {
     "name": "stdout",
     "output_type": "stream",
     "text": [
      "Found 4913 instances of number: 0_truck\n",
      "Done with number: 0_truck\n",
      "Deleted 0 class instances.\n",
      "Found 4913 instances of number: 1_automobile\n",
      "Done with number: 1_automobile\n",
      "Deleted 0 class instances.\n",
      "Found 4913 instances of number: 2_airplane\n",
      "Done with number: 2_airplane\n",
      "Deleted 0 class instances.\n",
      "Found 4913 instances of number: 3_ship\n",
      "Done with number: 3_ship\n",
      "Deleted 0 class instances.\n",
      "Found 4913 instances of number: 4_bird\n",
      "Done with number: 4_bird\n",
      "Deleted 0 class instances.\n",
      "Found 4913 instances of number: 5_cat\n",
      "Done with number: 5_cat\n",
      "Deleted 0 class instances.\n",
      "Found 4913 instances of number: 6_dog\n",
      "Done with number: 6_dog\n",
      "Deleted 0 class instances.\n",
      "Found 4913 instances of number: 7_deer\n",
      "Done with number: 7_deer\n",
      "Deleted 0 class instances.\n",
      "Found 4913 instances of number: 8_frog\n",
      "Done with number: 8_frog\n",
      "Deleted 0 class instances.\n",
      "Found 4913 instances of number: 9_horse\n",
      "Done with number: 9_horse\n",
      "Deleted 0 class instances.\n",
      "\n",
      "\n",
      "Done.\n",
      "\n",
      "\n"
     ]
    }
   ],
   "source": [
    "# renaming and truncating instantiations\n",
    "for (i, cls) in enumerate(classes): # for each subfolder in separate directory)\n",
    "    \n",
    "    lett_cls = all_cls[i] # letter encoding class\n",
    "    cls_dir = ds_fpth + '/' + cls\n",
    "    decor_pth = ds_pth + f'/decorate{lett_cls}.txt'\n",
    "    \n",
    "    instants = os.listdir(cls_dir)\n",
    "    print(f'Found {len(instants)} instances of number: {cls}')\n",
    "    \n",
    "    f_tmplt = open(decor_tmplt_pth, 'r')\n",
    "    f = open(decor_pth, 'w')\n",
    "    for (i, line) in enumerate(f_tmplt):\n",
    "        if i == 0:\n",
    "            f.write(f'ACTOR {lett_cls.lower()} : Health\\n') \n",
    "        else:\n",
    "            f.write(line) \n",
    "        \n",
    "\n",
    "    count = 0\n",
    "    for (j, ins) in enumerate(instants): # for each instantiation of each number\n",
    "        ins_pth = cls_dir +'/' + ins # path to original filename\n",
    "        try: # ADD AN EXCEPTION FOR RANDOM STRING 'FAIL' - reserved keyword in decorate (should not appear)\n",
    "            full_unique_str = lett_cls + unique_strs[j]\n",
    "            os.rename(ins_pth, cls_dir +'/' + full_unique_str + 'A0.png') # ending by convention\n",
    "            f.write(f'  {full_unique_str}:\\n    {full_unique_str} A -1\\n')\n",
    "        except IndexError:\n",
    "            os.remove(ins_pth)\n",
    "            count +=1\n",
    "    f.write('  }\\n}')\n",
    "    f.close()\n",
    "    # add the last two last lines of decoreate (curly brackets) somewhere here + print sth\n",
    "    print('Done with number: ' + cls + f'\\nDeleted {count} class instances.')\n",
    "\n",
    "print('\\n\\nDone.\\n\\n')"
   ]
  },
  {
   "cell_type": "code",
   "execution_count": null,
   "metadata": {},
   "outputs": [],
   "source": []
  },
  {
   "cell_type": "code",
   "execution_count": null,
   "metadata": {},
   "outputs": [],
   "source": []
  }
 ],
 "metadata": {
  "kernelspec": {
   "display_name": "Python 3 (ipykernel)",
   "language": "python",
   "name": "python3"
  },
  "language_info": {
   "codemirror_mode": {
    "name": "ipython",
    "version": 3
   },
   "file_extension": ".py",
   "mimetype": "text/x-python",
   "name": "python",
   "nbconvert_exporter": "python",
   "pygments_lexer": "ipython3",
   "version": "3.11.0"
  }
 },
 "nbformat": 4,
 "nbformat_minor": 4
}
