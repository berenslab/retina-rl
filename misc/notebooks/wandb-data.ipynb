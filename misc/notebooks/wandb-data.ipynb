{
 "cells": [
  {
   "cell_type": "code",
   "execution_count": 1,
   "id": "5b2b6c3c",
   "metadata": {},
   "outputs": [],
   "source": [
    "# Imports\n",
    "\n",
    "import wandb\n",
    "import pandas as pd\n",
    "import pickle\n",
    "import numpy as np\n",
    "\n",
    "from tqdm.auto import tqdm"
   ]
  },
  {
   "cell_type": "code",
   "execution_count": 2,
   "id": "4dd3f3bc",
   "metadata": {},
   "outputs": [],
   "source": [
    "# Config\n",
    "\n",
    "api = wandb.Api()\n",
    "\n",
    "entity = 'alex404'\n",
    "project = 'retinal-rl'"
   ]
  },
  {
   "cell_type": "code",
   "execution_count": 3,
   "id": "5256eaf1",
   "metadata": {},
   "outputs": [
    {
     "data": {
      "application/vnd.jupyter.widget-view+json": {
       "model_id": "485964ff67854b7485816ac061d2586d",
       "version_major": 2,
       "version_minor": 0
      },
      "text/plain": [
       "Downloading complexity data from wandb:   0%|          | 0/60 [00:00<?, ?it/s]"
      ]
     },
     "metadata": {},
     "output_type": "display_data"
    },
    {
     "name": "stdout",
     "output_type": "stream",
     "text": [
      "5\n",
      "5\n",
      "5\n",
      "5\n",
      "5\n",
      "5\n",
      "5\n",
      "5\n"
     ]
    },
    {
     "name": "stderr",
     "output_type": "stream",
     "text": [
      "\u001b[34m\u001b[1mwandb\u001b[0m: \u001b[33mWARNING\u001b[0m A graphql request initiated by the public wandb API timed out (timeout=9 sec). Create a new API with an integer timeout larger than 9, e.g., `api = wandb.Api(timeout=19)` to increase the graphql timeout.\n"
     ]
    },
    {
     "name": "stdout",
     "output_type": "stream",
     "text": [
      "5\n",
      "5\n",
      "5\n",
      "5\n"
     ]
    }
   ],
   "source": [
    "# Data extraction\n",
    "\n",
    "filters = { \"complexity-apples\" : {}\n",
    "          , \"complexity-gabors\" : {}\n",
    "          , \"complexity-mnist\" : {}\n",
    "          , \"complexity-cifar\" : {}\n",
    "          }\n",
    "\n",
    "dictionaries = filters\n",
    "\n",
    "filters[\"complexity-apples\"][\"linear\"] = {\"config.wandb_group\":\"complexity\"\n",
    "                                          ,\"config.env\":\"gathering_apples\"\n",
    "                                          ,\"jobType\":\"linear\"\n",
    "                                         }\n",
    "filters[\"complexity-apples\"][\"simple\"] = {\"config.wandb_group\":\"complexity\"\n",
    "                                          ,\"config.env\":\"gathering_apples\"\n",
    "                                          ,\"jobType\":\"simple\"\n",
    "                                          ,\"config.activation\":\"elu\"\n",
    "                                         }\n",
    "filters[\"complexity-apples\"][\"complex\"] = {\"config.wandb_group\":\"complexity\"\n",
    "                                           ,\"config.env\":\"gathering_apples\"\n",
    "                                           ,\"jobType\":\"complex\"\n",
    "                                           ,\"config.activation\":\"elu\"\n",
    "                                          }\n",
    "\n",
    "filters[\"complexity-gabors\"][\"linear\"] = {\"config.wandb_group\":\"complexity\"\n",
    "                                          ,\"config.env\":\"gathering_gabors\"\n",
    "                                          ,\"jobType\":\"linear\"\n",
    "                                         }\n",
    "filters[\"complexity-gabors\"][\"simple\"] = {\"config.wandb_group\":\"complexity\"\n",
    "                                          ,\"config.env\":\"gathering_gabors\"\n",
    "                                          ,\"jobType\":\"simple\"\n",
    "                                          ,\"config.activation\":\"elu\"\n",
    "                                         }\n",
    "filters[\"complexity-gabors\"][\"complex\"] = {\"config.wandb_group\":\"complexity\"\n",
    "                                           ,\"config.env\":\"gathering_gabors\"\n",
    "                                           ,\"jobType\":\"complex\"\n",
    "                                           ,\"config.activation\":\"elu\"\n",
    "                                          }\n",
    "\n",
    "filters[\"complexity-mnist\"][\"linear\"] = {\"config.wandb_group\":\"complexity\"\n",
    "                                          ,\"config.env\":\"gathering_mnist\"\n",
    "                                          ,\"jobType\":\"linear\"\n",
    "                                         }\n",
    "filters[\"complexity-mnist\"][\"simple\"] = {\"config.wandb_group\":\"complexity\"\n",
    "                                          ,\"config.env\":\"gathering_mnist\"\n",
    "                                          ,\"jobType\":\"simple\"\n",
    "                                          ,\"config.activation\":\"elu\"\n",
    "                                         }\n",
    "filters[\"complexity-mnist\"][\"complex\"] = {\"config.wandb_group\":\"complexity\"\n",
    "                                           ,\"config.env\":\"gathering_mnist\"\n",
    "                                           ,\"jobType\":\"complex\"\n",
    "                                           ,\"config.activation\":\"elu\"\n",
    "                                          }\n",
    "\n",
    "filters[\"complexity-cifar\"][\"linear\"] = {\"config.wandb_group\":\"complexity\"\n",
    "                                          ,\"config.env\":\"gathering_cifar\"\n",
    "                                          ,\"jobType\":\"linear\"\n",
    "                                         }\n",
    "filters[\"complexity-cifar\"][\"simple\"] = {\"config.wandb_group\":\"complexity\"\n",
    "                                          ,\"config.env\":\"gathering_cifar\"\n",
    "                                          ,\"jobType\":\"simple\"\n",
    "                                          ,\"config.activation\":\"elu\"\n",
    "                                         }\n",
    "filters[\"complexity-cifar\"][\"complex\"] = {\"config.wandb_group\":\"complexity\"\n",
    "                                           ,\"config.env\":\"gathering_cifar\"\n",
    "                                           ,\"jobType\":\"complex\"\n",
    "                                           ,\"config.activation\":\"elu\"\n",
    "                                          }\n",
    "\n",
    "with tqdm(total=3*4*5, desc=\"Downloading complexity data from wandb\") as pbar:\n",
    "\n",
    "    for grp in filters:\n",
    "\n",
    "        for ky in filters[grp]:\n",
    "\n",
    "            runs = api.runs(f\"{entity}/{project}\",filters=filters[grp][ky])\n",
    "            dictionaries[grp][ky] = []\n",
    "\n",
    "            for run in runs:\n",
    "\n",
    "                hist = run.history(samples=100000)\n",
    "                stps0 = np.array(hist.get('global_step'))\n",
    "                lens0 = np.array(hist.get('len/len'))\n",
    "                dictionaries[grp][ky].append((stps0,lens0))\n",
    "                pbar.update(1)\n",
    "                \n",
    "                \n",
    "            print(len(dictionaries[grp][ky]))\n",
    "\n",
    "    with open('complexity-runs.pkl','wb') as handle:\n",
    "        pickle.dump(dictionaries,handle)"
   ]
  },
  {
   "cell_type": "code",
   "execution_count": 7,
   "id": "2f77a3e4",
   "metadata": {},
   "outputs": [
    {
     "data": {
      "application/vnd.jupyter.widget-view+json": {
       "model_id": "126a94026e914a308e46e92998b99909",
       "version_major": 2,
       "version_minor": 0
      },
      "text/plain": [
       "Downloading distractor data from wandb:   0%|          | 0/30 [00:00<?, ?it/s]"
      ]
     },
     "metadata": {},
     "output_type": "display_data"
    },
    {
     "name": "stdout",
     "output_type": "stream",
     "text": [
      "5\n",
      "5\n",
      "5\n",
      "5\n",
      "5\n",
      "5\n"
     ]
    }
   ],
   "source": [
    "# Data extraction\n",
    "\n",
    "filters = { \"distractors-appmnist-apples\" : {}\n",
    "          , \"distractors-appmnist-mnist\" : {}\n",
    "          }\n",
    "\n",
    "dictionaries = filters\n",
    "\n",
    "filters[\"distractors-appmnist-apples\"][\"linear\"] = {\"config.wandb_group\":\"distractors\"\n",
    "                                          ,\"config.env\":\"appmnist_apples\"\n",
    "                                          ,\"config.activation\":\"linear\"\n",
    "                                         }\n",
    "filters[\"distractors-appmnist-apples\"][\"simple\"] = {\"config.wandb_group\":\"distractors\"\n",
    "                                          ,\"config.env\":\"appmnist_apples\"\n",
    "                                          ,\"jobType\":\"simple\"\n",
    "                                          ,\"config.activation\":\"elu\"\n",
    "                                         }\n",
    "filters[\"distractors-appmnist-apples\"][\"complex\"] = {\"config.wandb_group\":\"distractors\"\n",
    "                                           ,\"config.env\":\"appmnist_apples\"\n",
    "                                           ,\"jobType\":\"complex\"\n",
    "                                           ,\"config.activation\":\"elu\"\n",
    "                                          }\n",
    "\n",
    "filters[\"distractors-appmnist-mnist\"][\"linear\"] = {\"config.wandb_group\":\"distractors\"\n",
    "                                          ,\"config.env\":\"appmnist_mnist\"\n",
    "                                          ,\"config.activation\":\"linear\"\n",
    "                                         }\n",
    "filters[\"distractors-appmnist-mnist\"][\"simple\"] = {\"config.wandb_group\":\"distractors\"\n",
    "                                          ,\"config.env\":\"appmnist_mnist\"\n",
    "                                          ,\"jobType\":\"simple\"\n",
    "                                          ,\"config.activation\":\"elu\"\n",
    "                                         }\n",
    "filters[\"distractors-appmnist-mnist\"][\"complex\"] = {\"config.wandb_group\":\"distractors\"\n",
    "                                           ,\"config.env\":\"appmnist_mnist\"\n",
    "                                           ,\"jobType\":\"complex\"\n",
    "                                           ,\"config.activation\":\"elu\"\n",
    "                                          }\n",
    "\n",
    "\n",
    "with tqdm(total=3*2*5, desc=\"Downloading distractor data from wandb\") as pbar:\n",
    "\n",
    "    for grp in filters:\n",
    "\n",
    "        for ky in filters[grp]:\n",
    "\n",
    "            runs = api.runs(f\"{entity}/{project}\",filters=filters[grp][ky])\n",
    "            dictionaries[grp][ky] = []\n",
    "\n",
    "            for run in runs:\n",
    "\n",
    "                hist = run.history(samples=100000)\n",
    "                stps0 = np.array(hist.get('global_step'))\n",
    "                lens0 = np.array(hist.get('len/len'))\n",
    "                dictionaries[grp][ky].append((stps0,lens0))\n",
    "                pbar.update(1)\n",
    "                \n",
    "            print(len(dictionaries[grp][ky]))\n",
    "\n",
    "    with open('distractors-runs.pkl','wb') as handle:\n",
    "        pickle.dump(dictionaries,handle)"
   ]
  },
  {
   "cell_type": "code",
   "execution_count": null,
   "id": "5e99f1a3",
   "metadata": {},
   "outputs": [],
   "source": []
  }
 ],
 "metadata": {
  "kernelspec": {
   "display_name": "Python 3 (ipykernel)",
   "language": "python",
   "name": "python3"
  },
  "language_info": {
   "codemirror_mode": {
    "name": "ipython",
    "version": 3
   },
   "file_extension": ".py",
   "mimetype": "text/x-python",
   "name": "python",
   "nbconvert_exporter": "python",
   "pygments_lexer": "ipython3",
   "version": "3.11.0"
  }
 },
 "nbformat": 4,
 "nbformat_minor": 5
}
